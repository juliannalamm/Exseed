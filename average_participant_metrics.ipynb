version https://git-lfs.github.com/spec/v1
oid sha256:af6fe538527d28e0974cd760ed3da8d12aa94185fe6e66a0d67cd68afe475ec0
size 6961
