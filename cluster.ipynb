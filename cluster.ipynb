{
 "cells": [
  {
   "cell_type": "code",
   "execution_count": 9,
   "metadata": {},
   "outputs": [],
   "source": [
    "import pandas as pd \n",
    "import numpy as np \n",
    "import os \n",
    "import re\n",
    "import matplotlib.pyplot as plt \n",
    "\n",
    "from sklearn.preprocessing import StandardScaler\n",
    "from sklearn.preprocessing import MinMaxScaler \n",
    "from sklearn.cluster import DBSCAN\n",
    "from sklearn.cluster import KMeans\n",
    "from sklearn.decomposition import PCA\n"
   ]
  },
  {
   "cell_type": "code",
   "execution_count": null,
   "metadata": {},
   "outputs": [],
   "source": [
    "#check structure for missing views \n",
    "\n",
    "data_dir = \"2025-07-23+-+Data+for+Julianna\"\n",
    "video_views = {}\n",
    "\n",
    "#compile pattern to match the 7 digit folder name\n",
    "pattern = re.compile(r\"^([0-9a-fA-F]+) - View (\\d+)$\")\n",
    "\n",
    "for folder in os.listdir(data_dir):\n",
    "    match = pattern.match(folder) \n",
    "    if match: \n",
    "        video_id,view = match.groups() # returns (video_id, view) \n",
    "    if video_id not in video_views: \n",
    "        video_views[video_id] = set() #create dictionary with video_id\n",
    "    video_views[video_id].add(view) #add new view to dictionary\n",
    "    \n",
    "# for video_id,views in video_views.items(): \n",
    "#     if not {'1', '2'}.issubset(views):\n",
    "#         print(f\"Video ID {video_id} missing views: { {'1','2'} - views} \")\n",
    "\n",
    "# for video_id,views in video_views.items(): \n",
    "#     if {\"1,2\"}.issubset(views): \n",
    "#         print(f\"Video ID {video_id} has both views\")\n",
    "    "
   ]
  },
  {
   "cell_type": "code",
   "execution_count": null,
   "metadata": {},
   "outputs": [],
   "source": [
    "#if folder has both view 1 and view 2, combine both .json files into single .json file with just video_id \n",
    "    "
   ]
  }
 ],
 "metadata": {
  "kernelspec": {
   "display_name": ".venv",
   "language": "python",
   "name": "python3"
  },
  "language_info": {
   "codemirror_mode": {
    "name": "ipython",
    "version": 3
   },
   "file_extension": ".py",
   "mimetype": "text/x-python",
   "name": "python",
   "nbconvert_exporter": "python",
   "pygments_lexer": "ipython3",
   "version": "3.12.2"
  }
 },
 "nbformat": 4,
 "nbformat_minor": 2
}
