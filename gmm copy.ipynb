version https://git-lfs.github.com/spec/v1
oid sha256:04c2ee8604d75a0dd458ed7b8e852223ba9dba9cb7dd6aacdd20ef316b21d476
size 331413
