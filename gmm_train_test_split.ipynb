version https://git-lfs.github.com/spec/v1
oid sha256:0a46fd62809d3aa83b60a016ba3d695671fea6d8241a3d3cca516f373899df81
size 1294590
