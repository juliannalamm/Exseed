version https://git-lfs.github.com/spec/v1
oid sha256:d44df1d9d54f2372a5f681c4d029f0babadaadcf15eb5fb4cb9e308589e9ba3b
size 1244124
